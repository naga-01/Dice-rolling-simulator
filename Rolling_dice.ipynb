{
 "cells": [
  {
   "cell_type": "code",
   "execution_count": 1,
   "metadata": {},
   "outputs": [],
   "source": [
    "import random\n",
    "import time\n",
    "def game():\n",
    "    print(\"Rolling the dice....\")\n",
    "    time.sleep(2.2)\n",
    "    return random.randint(1,6)"
   ]
  },
  {
   "cell_type": "code",
   "execution_count": 2,
   "metadata": {},
   "outputs": [],
   "source": [
    "def player_choice():\n",
    "    return input('Do you want to play ? Enter Yes or No: ').lower().startswith('y')"
   ]
  },
  {
   "cell_type": "code",
   "execution_count": 3,
   "metadata": {},
   "outputs": [],
   "source": [
    "def replay():\n",
    "    return input('Do you want to play again? Enter Yes or No: ').lower().startswith('y')"
   ]
  },
  {
   "cell_type": "code",
   "execution_count": 4,
   "metadata": {},
   "outputs": [
    {
     "name": "stdout",
     "output_type": "stream",
     "text": [
      "Welcome to Dice rolling Simulator\n",
      "\n",
      "game 1\n",
      "Do you want to play ? Enter Yes or No: yes\n",
      "Rolling the dice....\n",
      "Dice shows 3\n",
      "\n",
      "\n",
      "game 2\n",
      "Do you want to play ? Enter Yes or No: yes\n",
      "Rolling the dice....\n",
      "Dice shows 2\n",
      "\n",
      "\n",
      "game 3\n",
      "Do you want to play ? Enter Yes or No: yes\n",
      "Rolling the dice....\n",
      "Dice shows 6\n",
      "\n",
      "\n",
      "game 4\n",
      "Do you want to play ? Enter Yes or No: no\n"
     ]
    }
   ],
   "source": [
    "print(\"Welcome to Dice rolling Simulator\\n\")\n",
    "time.sleep(0.2)\n",
    "i=0\n",
    "while True:\n",
    "    print(f\"Game {i+1}\")\n",
    "    if(player_choice()):\n",
    "        print(f\"Dice shows {game()}\\n\\n\")\n",
    "    else:\n",
    "        break;\n",
    "    i+=1"
   ]
  },
  {
   "cell_type": "code",
   "execution_count": null,
   "metadata": {},
   "outputs": [],
   "source": []
  }
 ],
 "metadata": {
  "kernelspec": {
   "display_name": "Python 3",
   "language": "python",
   "name": "python3"
  },
  "language_info": {
   "codemirror_mode": {
    "name": "ipython",
    "version": 3
   },
   "file_extension": ".py",
   "mimetype": "text/x-python",
   "name": "python",
   "nbconvert_exporter": "python",
   "pygments_lexer": "ipython3",
   "version": "3.7.1"
  }
 },
 "nbformat": 4,
 "nbformat_minor": 2
}
